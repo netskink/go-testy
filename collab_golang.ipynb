{
  "nbformat": 4,
  "nbformat_minor": 0,
  "metadata": {
    "colab": {
      "name": "Copy of golang.ipynb",
      "provenance": [],
      "collapsed_sections": [],
      "include_colab_link": true
    },
    "kernelspec": {
      "name": "gophernotes",
      "display_name": "Go"
    }
  },
  "cells": [
    {
      "cell_type": "markdown",
      "metadata": {
        "id": "view-in-github",
        "colab_type": "text"
      },
      "source": [
        "<a href=\"https://colab.research.google.com/github/netskink/go-testy/blob/main/collab_golang.ipynb\" target=\"_parent\"><img src=\"https://colab.research.google.com/assets/colab-badge.svg\" alt=\"Open In Colab\"/></a>"
      ]
    },
    {
      "cell_type": "code",
      "metadata": {
        "id": "caT1iMfshw62"
      },
      "source": [
        "# run this cell first time using python runtime\n",
        "!add-apt-repository ppa:longsleep/golang-backports -y\n",
        "!apt update\n",
        "!apt install golang-go\n",
        "%env GOPATH=/root/go\n",
        "!go get -u github.com/gopherdata/gophernotes\n",
        "!cp ~/go/bin/gophernotes /usr/bin/\n",
        "!mkdir /usr/local/share/jupyter/kernels/gophernotes\n",
        "!cp ~/go/src/github.com/gopherdata/gophernotes/kernel/* \\\n",
        "       /usr/local/share/jupyter/kernels/gophernotes\n",
        "# then refresh, it will now use gophernotes. Skip to golang in later cells"
      ],
      "execution_count": null,
      "outputs": []
    },
    {
      "cell_type": "code",
      "metadata": {
        "id": "T0GlicFaQ0oo",
        "outputId": "ad1a4839-721e-463b-9947-e490e7b5ce08",
        "colab": {
          "base_uri": "https://localhost:8080/",
          "height": 35
        }
      },
      "source": [
        "1+1"
      ],
      "execution_count": null,
      "outputs": [
        {
          "output_type": "execute_result",
          "data": {
            "text/plain": [
              "2"
            ]
          },
          "metadata": {
            "tags": []
          },
          "execution_count": 1
        }
      ]
    },
    {
      "cell_type": "code",
      "metadata": {
        "id": "dv29Doq9azBC",
        "outputId": "d899c875-b48b-4b5c-ee0f-b841454a051c",
        "colab": {
          "base_uri": "https://localhost:8080/",
          "height": 35
        }
      },
      "source": [
        "print(\"Hello\", \"World\")"
      ],
      "execution_count": null,
      "outputs": [
        {
          "output_type": "stream",
          "text": [
            "HelloWorld"
          ],
          "name": "stderr"
        }
      ]
    },
    {
      "cell_type": "code",
      "metadata": {
        "id": "iU0OKR8Natzl",
        "outputId": "e7f6776b-7349-4af3-942d-7564715ecadc",
        "colab": {
          "base_uri": "https://localhost:8080/",
          "height": 34
        }
      },
      "source": [
        "display.HTML(\"<b>Hello, World</b>\")"
      ],
      "execution_count": null,
      "outputs": [
        {
          "output_type": "execute_result",
          "data": {
            "text/plain": [
              "<b>Hello, World</b>"
            ],
            "text/html": [
              "<b>Hello, World</b>"
            ]
          },
          "metadata": {
            "tags": []
          },
          "execution_count": 3
        }
      ]
    },
    {
      "cell_type": "code",
      "metadata": {
        "id": "4gfyTd0Pa2dD"
      },
      "source": [
        ""
      ],
      "execution_count": null,
      "outputs": []
    }
  ]
}